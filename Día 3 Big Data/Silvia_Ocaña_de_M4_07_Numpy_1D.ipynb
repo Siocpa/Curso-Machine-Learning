{
  "metadata": {
    "kernelspec": {
      "name": "python",
      "display_name": "Pyolite",
      "language": "python"
    },
    "language_info": {
      "codemirror_mode": {
        "name": "python",
        "version": 3
      },
      "file_extension": ".py",
      "mimetype": "text/x-python",
      "name": "python",
      "nbconvert_exporter": "python",
      "pygments_lexer": "ipython3",
      "version": "3.8"
    },
    "colab": {
      "provenance": []
    }
  },
  "nbformat_minor": 0,
  "nbformat": 4,
  "cells": [
    {
      "cell_type": "markdown",
      "source": [
        "# Numpy 1D en Python\n",
        "\n",
        "Después de completar esta práctica serás capaz de:\n",
        "\n",
        "*   Usar la librería `numpy`\n",
        "*   Realizar operaciones con `numpy`\n"
      ],
      "metadata": {
        "id": "LYYuQv3XgZhF"
      }
    },
    {
      "cell_type": "code",
      "source": [
        "#Busca en internet como importar numpy\n",
        "import numpy as np"
      ],
      "metadata": {
        "id": "7yrUBZ6JvCF9"
      },
      "execution_count": null,
      "outputs": []
    },
    {
      "cell_type": "markdown",
      "source": [
        "### Creamos una Lista Python de la siguiente manera:\n"
      ],
      "metadata": {
        "id": "gVYX1l_fgZhO"
      }
    },
    {
      "cell_type": "code",
      "source": [
        "# Creamos una lista python\n",
        "\n",
        "a = [\"0\", 1, \"two\", \"3\", 4]"
      ],
      "metadata": {
        "id": "s07xzYlzgZhP"
      },
      "execution_count": null,
      "outputs": []
    },
    {
      "cell_type": "markdown",
      "source": [
        "Podemos acceder a los datos a través del índice:\n"
      ],
      "metadata": {
        "id": "xXHvR9_SgZhR"
      }
    },
    {
      "cell_type": "markdown",
      "source": [
        "<img src=\"https://cf-courses-data.s3.us.cloud-object-storage.appdomain.cloud/IBMDeveloperSkillsNetwork-PY0101EN-SkillsNetwork/labs/Module%205/images/NumOneList.png\" width=\"660\" />\n"
      ],
      "metadata": {
        "id": "KlC3t1dTgZhR"
      }
    },
    {
      "cell_type": "markdown",
      "source": [
        "Podemos acceder a cada elemento usando corchetes de la siguiente manera:\n"
      ],
      "metadata": {
        "id": "h7phFPjagZhS"
      }
    },
    {
      "cell_type": "code",
      "source": [
        "# Print each element\n",
        "\n",
        "print(\"a[0]:\", a[0])\n",
        "print(\"a[1]:\", a[1])\n",
        "print(\"a[2]:\", a[2])\n",
        "print(\"a[3]:\", a[3])\n",
        "print(\"a[4]:\", a[4])"
      ],
      "metadata": {
        "id": "c1cfc69ZgZhT"
      },
      "execution_count": null,
      "outputs": []
    },
    {
      "cell_type": "markdown",
      "source": [
        "<hr>\n"
      ],
      "metadata": {
        "id": "T0bU0FIEgZhT"
      }
    },
    {
      "cell_type": "markdown",
      "source": [
        "<h2 id=\"numpy\">¿Qué es Numpy?</h2>\n"
      ],
      "metadata": {
        "id": "iB2IO6HSgZhU"
      }
    },
    {
      "cell_type": "markdown",
      "source": [
        "NumPy es una biblioteca de Python que se utiliza para trabajar con matrices, álgebra lineal, transformaciones de Fourier y matrices. Un array numpy es similar a una lista. NumPy significa Numerical Python y es un proyecto de código abierto. El objeto array en NumPy se llama **ndarray**, proporciona muchas funciones de apoyo que hacen que trabajar con ndarray sea muy fácil.\n",
        "\n",
        "Los arrays se utilizan con mucha frecuencia en la ciencia de datos, donde la velocidad y los recursos son muy importantes.\n",
        "\n",
        "NumPy generalmente se importa con el alias np.\n",
        "\n",
        "Por lo general, tiene un tamaño fijo y cada elemento es del mismo tipo. Podemos convertir una lista en un array numpy importando primero `numpy`:\n"
      ],
      "metadata": {
        "id": "wY8SHEdkgZhU"
      }
    },
    {
      "cell_type": "code",
      "source": [
        "# importamos la librería numpy\n",
        "\n",
        "import numpy as np "
      ],
      "metadata": {
        "id": "JcLzcIhJgZhV"
      },
      "execution_count": null,
      "outputs": []
    },
    {
      "cell_type": "markdown",
      "source": [
        "Después convertimos la lista de la siguiente manera:\n"
      ],
      "metadata": {
        "id": "myP2BXo4gZhV"
      }
    },
    {
      "cell_type": "code",
      "source": [
        "# Creamos un array numpy\n",
        "\n",
        "a = np.array([0, 1, 2, 3, 4])\n",
        "a"
      ],
      "metadata": {
        "id": "iWcjLN3BgZhV",
        "colab": {
          "base_uri": "https://localhost:8080/"
        },
        "outputId": "d87d8d18-9fbc-4baa-c4c8-2a3524efd46e"
      },
      "execution_count": null,
      "outputs": [
        {
          "output_type": "execute_result",
          "data": {
            "text/plain": [
              "array([0, 1, 2, 3, 4])"
            ]
          },
          "metadata": {},
          "execution_count": 5
        }
      ]
    },
    {
      "cell_type": "markdown",
      "source": [
        "Cada elemento es del mismo tipo, en este caso enteros:\n"
      ],
      "metadata": {
        "id": "Icd5qC2CgZhW"
      }
    },
    {
      "cell_type": "markdown",
      "source": [
        "<img src=\"https://cf-courses-data.s3.us.cloud-object-storage.appdomain.cloud/IBMDeveloperSkillsNetwork-PY0101EN-SkillsNetwork/labs/Module%205/images/NumOneNp.png\" width=\"500\" />\n"
      ],
      "metadata": {
        "id": "AHp0Tui5gZhW"
      }
    },
    {
      "cell_type": "markdown",
      "source": [
        "Al igual que con las listas, podemos acceder a cada elemento mediante corchetes:\n"
      ],
      "metadata": {
        "id": "hPeMfh3kgZhX"
      }
    },
    {
      "cell_type": "code",
      "source": [
        "# Imprimimos cada elemento\n",
        "\n",
        "print(\"a[0]:\", a[0])\n",
        "print(\"a[1]:\", a[1])\n",
        "print(\"a[2]:\", a[2])\n",
        "print(\"a[3]:\", a[3])\n",
        "print(\"a[4]:\", a[4])"
      ],
      "metadata": {
        "id": "oIijJ_izgZhX",
        "colab": {
          "base_uri": "https://localhost:8080/"
        },
        "outputId": "32059caa-f841-4e51-d1de-77337ace898d"
      },
      "execution_count": null,
      "outputs": [
        {
          "output_type": "stream",
          "name": "stdout",
          "text": [
            "a[0]: 0\n",
            "a[1]: 1\n",
            "a[2]: 2\n",
            "a[3]: 3\n",
            "a[4]: 4\n"
          ]
        }
      ]
    },
    {
      "cell_type": "markdown",
      "source": [
        "### Comprobando la Versión de NumPy\n",
        "\n",
        "La versión se almacena en el atributo **versión**.\n"
      ],
      "metadata": {
        "id": "jBoJ6IdWgZhY"
      }
    },
    {
      "cell_type": "code",
      "source": [
        "print(np.__version__)"
      ],
      "metadata": {
        "id": "FR6DqYL3gZhY"
      },
      "execution_count": null,
      "outputs": []
    },
    {
      "cell_type": "markdown",
      "source": [
        "<h3 id=\"type\">Tipo</h3>\n"
      ],
      "metadata": {
        "id": "PLv6Xv_vgZhY"
      }
    },
    {
      "cell_type": "markdown",
      "source": [
        "Si comprobamos el tipo del array obtenemos <b>numpy.ndarray</b>:\n"
      ],
      "metadata": {
        "id": "N53EDpyogZhY"
      }
    },
    {
      "cell_type": "code",
      "source": [
        "# Comprobamos el tipo del array\n",
        "\n",
        "type(a)"
      ],
      "metadata": {
        "id": "VAc5kEq6gZhZ",
        "colab": {
          "base_uri": "https://localhost:8080/"
        },
        "outputId": "a9c70f59-b4dc-4532-d946-6daead84c32a"
      },
      "execution_count": null,
      "outputs": [
        {
          "output_type": "execute_result",
          "data": {
            "text/plain": [
              "numpy.ndarray"
            ]
          },
          "metadata": {},
          "execution_count": 10
        }
      ]
    },
    {
      "cell_type": "markdown",
      "source": [
        "Como los array numpy contienen datos del mismo tipo, podemos usar el atributo \"dtype\" para obtener el tipo de datos de los elementos del array. En este caso, es un entero de 64 bits:\n"
      ],
      "metadata": {
        "id": "bDFlyDgIgZhZ"
      }
    },
    {
      "cell_type": "code",
      "source": [
        "# Comprobamos el tipo de valores almacenados en el array numpy\n",
        "\n",
        "a.dtype"
      ],
      "metadata": {
        "id": "Xj8BrecDgZhZ",
        "colab": {
          "base_uri": "https://localhost:8080/"
        },
        "outputId": "2eaffaf9-02e8-4b07-c4f3-7da0fbb8a33c"
      },
      "execution_count": null,
      "outputs": [
        {
          "output_type": "execute_result",
          "data": {
            "text/plain": [
              "dtype('int64')"
            ]
          },
          "metadata": {},
          "execution_count": 11
        }
      ]
    },
    {
      "cell_type": "markdown",
      "source": [
        "### Inténtalo tú mismo\n",
        "\n",
        "Comprueba el tipo de array y valor para la matriz dada **b**\n"
      ],
      "metadata": {
        "id": "MQiIVuJkgZha"
      }
    },
    {
      "cell_type": "code",
      "source": [
        "b = np.array([3.1, 11.02, 6.2, 213.2, 5.2])\n",
        "b.dtype\n",
        "# Escriba aquí su solución\n",
        "b"
      ],
      "metadata": {
        "id": "eNHpWhgWgZha",
        "colab": {
          "base_uri": "https://localhost:8080/"
        },
        "outputId": "d8544fd2-4850-48f8-e1e0-3ba5f84a3e47"
      },
      "execution_count": null,
      "outputs": [
        {
          "output_type": "execute_result",
          "data": {
            "text/plain": [
              "array([  3.1 ,  11.02,   6.2 , 213.2 ,   5.2 ])"
            ]
          },
          "metadata": {},
          "execution_count": 16
        }
      ]
    },
    {
      "cell_type": "markdown",
      "source": [
        "<h3 id=\"val\">Asignar un valor</h3>\n"
      ],
      "metadata": {
        "id": "_ELeitsogZha"
      }
    },
    {
      "cell_type": "markdown",
      "source": [
        "Podemos cambiar el valor del array. Observa el array <code>c</code>:\n"
      ],
      "metadata": {
        "id": "a4319rGVgZha"
      }
    },
    {
      "cell_type": "code",
      "source": [
        "# Creamos un array numpy\n",
        "\n",
        "c = np.array([20, 1, 2, 3, 4])\n",
        "c"
      ],
      "metadata": {
        "id": "D7F6F3rngZha",
        "colab": {
          "base_uri": "https://localhost:8080/"
        },
        "outputId": "d1e610ad-37d7-455e-8602-03f567b8b421"
      },
      "execution_count": null,
      "outputs": [
        {
          "output_type": "execute_result",
          "data": {
            "text/plain": [
              "array([20,  1,  2,  3,  4])"
            ]
          },
          "metadata": {},
          "execution_count": 13
        }
      ]
    },
    {
      "cell_type": "markdown",
      "source": [
        "Podemos cambiar el primer elemento del array a 100 de la siguiente manera:\n"
      ],
      "metadata": {
        "id": "RfFXSlzKgZhb"
      }
    },
    {
      "cell_type": "code",
      "source": [
        "# Asignamos 100 al primer elemento\n",
        "\n",
        "c[0] = 100\n",
        "c"
      ],
      "metadata": {
        "id": "uKaQxnVRgZhb",
        "colab": {
          "base_uri": "https://localhost:8080/"
        },
        "outputId": "0c1fee24-ab26-43fe-8fc2-b03d7ddf9a5d"
      },
      "execution_count": null,
      "outputs": [
        {
          "output_type": "execute_result",
          "data": {
            "text/plain": [
              "array([100,   1,   2,   3,   4])"
            ]
          },
          "metadata": {},
          "execution_count": 14
        }
      ]
    },
    {
      "cell_type": "markdown",
      "source": [
        "Podemos cambiar el quinto elemento del array a 0 de la siguiente manera:\n"
      ],
      "metadata": {
        "id": "6HcbYln3gZhb"
      }
    },
    {
      "cell_type": "code",
      "source": [
        "# Asignamos 0 al 5º elemento\n",
        "\n",
        "c[4] = 0\n",
        "c"
      ],
      "metadata": {
        "id": "mjjv8482gZhb",
        "colab": {
          "base_uri": "https://localhost:8080/"
        },
        "outputId": "1766cf30-c81a-4f2f-ebaa-99c4cd051878"
      },
      "execution_count": null,
      "outputs": [
        {
          "output_type": "execute_result",
          "data": {
            "text/plain": [
              "array([100,   1,   2,   3,   0])"
            ]
          },
          "metadata": {},
          "execution_count": 15
        }
      ]
    },
    {
      "cell_type": "markdown",
      "source": [
        "### Inténtalo tú mismo\n",
        "\n",
        "Asigna el valor 20 para el segundo elemento en el array dada.\n"
      ],
      "metadata": {
        "id": "5Pu_2ft8gZhb"
      }
    },
    {
      "cell_type": "code",
      "source": [
        "a = np.array([10, 2, 30, 40,50])\n",
        "\n",
        "# Escriba aquí su solución\n",
        "a[1]=20\n",
        "a"
      ],
      "metadata": {
        "id": "OsxdC66jgZhc",
        "colab": {
          "base_uri": "https://localhost:8080/"
        },
        "outputId": "a59b300c-e9e0-48e7-c5cf-14871dccd88a"
      },
      "execution_count": null,
      "outputs": [
        {
          "output_type": "execute_result",
          "data": {
            "text/plain": [
              "array([10, 20, 30, 40, 50])"
            ]
          },
          "metadata": {},
          "execution_count": 18
        }
      ]
    },
    {
      "cell_type": "markdown",
      "source": [
        "<h3 id=\"slice\">Slicing (Cortar)</h3>\n"
      ],
      "metadata": {
        "id": "vRKdaXQOgZhc"
      }
    },
    {
      "cell_type": "markdown",
      "source": [
        "Al igual que las listas, podemos dividir el array numpy. Slicing (Cortar) en python significa tomar los elementos de un índice dado a otro índice dado.\n",
        "\n",
        "Cortamos de esta forma: \\[start:end].\n",
        "\n",
        "Podemos seleccionar los elementos del 1 al 3 y asignarlos a un nuevo array numpy <code>d</code> de la siguiente manera:\n"
      ],
      "metadata": {
        "id": "uQ3s7jGegZhc"
      }
    },
    {
      "cell_type": "code",
      "source": [
        "# Cortamos el array numpy\n",
        "\n",
        "d = c[1:4]\n",
        "d"
      ],
      "metadata": {
        "id": "In_OW7wZgZhc",
        "colab": {
          "base_uri": "https://localhost:8080/"
        },
        "outputId": "3924ba42-79ed-41c7-9b28-1e0512fea2b1"
      },
      "execution_count": null,
      "outputs": [
        {
          "output_type": "execute_result",
          "data": {
            "text/plain": [
              "array([1, 2, 3])"
            ]
          },
          "metadata": {},
          "execution_count": 19
        }
      ]
    },
    {
      "cell_type": "markdown",
      "source": [
        "Podemos asignar los índices correspondientes a los nuevos valores de la siguiente manera:\n"
      ],
      "metadata": {
        "id": "OV0lvTnZgZhc"
      }
    },
    {
      "cell_type": "code",
      "source": [
        "# Establecemos el cuarto elemento y el quinto elemento en 300 y 400\n",
        "\n",
        "c[3:5] = 300, 400\n",
        "c"
      ],
      "metadata": {
        "id": "-XzYBqABgZhd",
        "colab": {
          "base_uri": "https://localhost:8080/"
        },
        "outputId": "b16b30c7-3cf8-4ff4-b23e-162d64d0d921"
      },
      "execution_count": null,
      "outputs": [
        {
          "output_type": "execute_result",
          "data": {
            "text/plain": [
              "array([100,   1,   2, 300, 400])"
            ]
          },
          "metadata": {},
          "execution_count": 20
        }
      ]
    },
    {
      "cell_type": "markdown",
      "source": [
        "También podemos definir los pasos en el corte, así: \\[start\\:end:step].\n"
      ],
      "metadata": {
        "id": "nxUSJig-gZhd"
      }
    },
    {
      "cell_type": "code",
      "source": [
        "arr = np.array([1, 2, 3, 4, 5, 6, 7])\n",
        "\n",
        "print(arr[1:5:2])"
      ],
      "metadata": {
        "id": "KOtUFb7dgZhd",
        "colab": {
          "base_uri": "https://localhost:8080/"
        },
        "outputId": "358deb22-d3e7-4b67-d6c1-89853b64426f"
      },
      "execution_count": null,
      "outputs": [
        {
          "output_type": "stream",
          "name": "stdout",
          "text": [
            "[2 4]\n"
          ]
        }
      ]
    },
    {
      "cell_type": "markdown",
      "source": [
        "Si no damos el start se considera 0\n"
      ],
      "metadata": {
        "id": "qEdA-nb2gZhd"
      }
    },
    {
      "cell_type": "code",
      "source": [
        "print(arr[:4])"
      ],
      "metadata": {
        "id": "oXYjDYJEgZhd",
        "colab": {
          "base_uri": "https://localhost:8080/"
        },
        "outputId": "cdf9797a-b5bb-40ad-d401-f37b70801ee0"
      },
      "execution_count": null,
      "outputs": [
        {
          "output_type": "stream",
          "name": "stdout",
          "text": [
            "[1 2 3 4]\n"
          ]
        }
      ]
    },
    {
      "cell_type": "markdown",
      "source": [
        "Si no damos el end, se considera hasta la longitud del array.\n"
      ],
      "metadata": {
        "id": "863mB6jDgZhe"
      }
    },
    {
      "cell_type": "code",
      "source": [
        "print(arr[4:])"
      ],
      "metadata": {
        "id": "N45m3aUHgZhe",
        "colab": {
          "base_uri": "https://localhost:8080/"
        },
        "outputId": "780402b4-c5bc-4af9-f49d-8faf0e57e47e"
      },
      "execution_count": null,
      "outputs": [
        {
          "output_type": "stream",
          "name": "stdout",
          "text": [
            "[5 6 7]\n"
          ]
        }
      ]
    },
    {
      "cell_type": "markdown",
      "source": [
        "Si no damos el step se considera 1\n"
      ],
      "metadata": {
        "id": "GbOAQfB0gZhe"
      }
    },
    {
      "cell_type": "code",
      "source": [
        "print(arr[1:5:])"
      ],
      "metadata": {
        "id": "QbaTiocEgZhe",
        "colab": {
          "base_uri": "https://localhost:8080/"
        },
        "outputId": "c9a64b2a-fbc2-4aab-e37c-1fc2e572add8"
      },
      "execution_count": null,
      "outputs": [
        {
          "output_type": "stream",
          "name": "stdout",
          "text": [
            "[2 3 4 5]\n"
          ]
        }
      ]
    },
    {
      "cell_type": "markdown",
      "source": [
        "### Inténtalo tú mismo\n",
        "\n",
        "Imprime los elementos pares en el array dado.\n"
      ],
      "metadata": {
        "id": "ySoMDv87gZhe"
      }
    },
    {
      "cell_type": "code",
      "source": [
        "arr = np.array([1, 2, 3, 4, 5, 6, 7, 8])\n",
        "print(arr[1::2])\n",
        "# Escriba aquí su solución"
      ],
      "metadata": {
        "id": "d82yoF0lgZhe",
        "colab": {
          "base_uri": "https://localhost:8080/"
        },
        "outputId": "d0d6f80f-5716-4194-9e13-d99cccf58ea5"
      },
      "execution_count": null,
      "outputs": [
        {
          "output_type": "stream",
          "name": "stdout",
          "text": [
            "[2 4 6 8]\n"
          ]
        }
      ]
    },
    {
      "cell_type": "markdown",
      "source": [
        "<h3 id=\"list\">Asignar Valor con Listas</h3>\n"
      ],
      "metadata": {
        "id": "1IoZkhPqgZhf"
      }
    },
    {
      "cell_type": "markdown",
      "source": [
        "De manera similar, podemos usar una lista para seleccionar más de un índice específico.\n",
        "La lista `select` contiene varios valores:\n"
      ],
      "metadata": {
        "id": "ejqZcSSOgZhf"
      }
    },
    {
      "cell_type": "code",
      "source": [
        "# Creamos los índices de la lista\n",
        "\n",
        "select = [0, 2, 3, 4]\n",
        "select"
      ],
      "metadata": {
        "id": "ALIkeYLIgZhf",
        "colab": {
          "base_uri": "https://localhost:8080/"
        },
        "outputId": "0562d693-936d-457b-ed34-2a6d7e4f98a9"
      },
      "execution_count": null,
      "outputs": [
        {
          "output_type": "execute_result",
          "data": {
            "text/plain": [
              "[0, 2, 3, 4]"
            ]
          },
          "metadata": {},
          "execution_count": 37
        }
      ]
    },
    {
      "cell_type": "markdown",
      "source": [
        "Podemos usar la lista como argumento entre paréntesis. El resultado son los elementos correspondientes a los índices concretos:\n"
      ],
      "metadata": {
        "id": "Z4PKYd1tgZhf"
      }
    },
    {
      "cell_type": "code",
      "source": [
        "# Usamos la lista para seleccionar elementos\n",
        "\n",
        "d = c[select]\n",
        "d"
      ],
      "metadata": {
        "id": "LneqcJ8ZgZhf",
        "colab": {
          "base_uri": "https://localhost:8080/"
        },
        "outputId": "e7f89eaa-beb8-44a0-92ae-0785fbc1c0ff"
      },
      "execution_count": null,
      "outputs": [
        {
          "output_type": "execute_result",
          "data": {
            "text/plain": [
              "array([100000, 100000, 100000, 100000])"
            ]
          },
          "metadata": {},
          "execution_count": 36
        }
      ]
    },
    {
      "cell_type": "markdown",
      "source": [
        "Podemos asignar a los elementos especificados un nuevo valor. Por ejemplo, podemos asignar los valores a 100 000 de la siguiente manera:\n"
      ],
      "metadata": {
        "id": "FHpHcI4ugZhf"
      }
    },
    {
      "cell_type": "code",
      "source": [
        "# Asignamos a los elementos especificados un nuevo valor\n",
        "\n",
        "c[select] = 100000\n",
        "c"
      ],
      "metadata": {
        "id": "Alr5_RkxgZhg",
        "colab": {
          "base_uri": "https://localhost:8080/"
        },
        "outputId": "773c928c-747e-41d5-d0ab-b4617dfd306c"
      },
      "execution_count": null,
      "outputs": [
        {
          "output_type": "execute_result",
          "data": {
            "text/plain": [
              "array([100000,      1, 100000, 100000, 100000])"
            ]
          },
          "metadata": {},
          "execution_count": 38
        }
      ]
    },
    {
      "cell_type": "markdown",
      "source": [
        "<h3 id=\"other\">Otros Atributos</h3>\n"
      ],
      "metadata": {
        "id": "_j4fNBhAgZhg"
      }
    },
    {
      "cell_type": "markdown",
      "source": [
        "Vamos a revisar algunos atributos básicas de los arrays usando el array <code>a</code>:\n"
      ],
      "metadata": {
        "id": "WrF2-dhagZhg"
      }
    },
    {
      "cell_type": "code",
      "source": [
        "# Creamos un array numpy\n",
        "\n",
        "a = np.array([0, 1, 2, 3, 4])\n",
        "a"
      ],
      "metadata": {
        "id": "DxtnQwdagZhg",
        "colab": {
          "base_uri": "https://localhost:8080/"
        },
        "outputId": "55dbc0f4-019c-4fb3-d1d4-80c942c4501f"
      },
      "execution_count": null,
      "outputs": [
        {
          "output_type": "execute_result",
          "data": {
            "text/plain": [
              "array([0, 1, 2, 3, 4])"
            ]
          },
          "metadata": {},
          "execution_count": 39
        }
      ]
    },
    {
      "cell_type": "markdown",
      "source": [
        "El atributo <code>size</code> es el número de elementos en el array:\n"
      ],
      "metadata": {
        "id": "uA-jeT2EgZhh"
      }
    },
    {
      "cell_type": "code",
      "source": [
        "# Obtenemos el tamaño del array numpy\n",
        "\n",
        "a.size"
      ],
      "metadata": {
        "id": "FMgbRhqBgZhh",
        "colab": {
          "base_uri": "https://localhost:8080/"
        },
        "outputId": "1538becf-e190-4a48-adcb-958910001859"
      },
      "execution_count": null,
      "outputs": [
        {
          "output_type": "execute_result",
          "data": {
            "text/plain": [
              "5"
            ]
          },
          "metadata": {},
          "execution_count": 40
        }
      ]
    },
    {
      "cell_type": "markdown",
      "source": [
        "Los siguientes dos atributos tendrán más sentido cuando lleguemos a dimensiones más altas, pero repasémoslos. El atributo <code>ndim</code> representa el número de dimensiones del array o el rango del array. En este caso, uno:\n"
      ],
      "metadata": {
        "id": "-StOXNqugZhh"
      }
    },
    {
      "cell_type": "code",
      "source": [
        "# Obtenemos el número de dimensiones del array numpy\n",
        "\n",
        "a.ndim"
      ],
      "metadata": {
        "id": "8ga08ujRgZhi",
        "colab": {
          "base_uri": "https://localhost:8080/"
        },
        "outputId": "952d9303-5762-49cd-8900-96f76b82b0a1"
      },
      "execution_count": null,
      "outputs": [
        {
          "output_type": "execute_result",
          "data": {
            "text/plain": [
              "1"
            ]
          },
          "metadata": {},
          "execution_count": 42
        }
      ]
    },
    {
      "cell_type": "markdown",
      "source": [
        "El atributo <code>shape</code> es una tupla de enteros que indica el tamaño del array en cada dimensión:\n"
      ],
      "metadata": {
        "id": "iJbRC11ogZhi"
      }
    },
    {
      "cell_type": "code",
      "source": [
        "# Obtenemos la forma o el tamaño del array numpy\n",
        "\n",
        "a.shape"
      ],
      "metadata": {
        "id": "1GMWK_ATgZhi",
        "colab": {
          "base_uri": "https://localhost:8080/"
        },
        "outputId": "8ed57c9c-61af-48f5-8bf1-8f72bc604b31"
      },
      "execution_count": null,
      "outputs": [
        {
          "output_type": "execute_result",
          "data": {
            "text/plain": [
              "(5,)"
            ]
          },
          "metadata": {},
          "execution_count": 43
        }
      ]
    },
    {
      "cell_type": "markdown",
      "source": [
        "### Inténtalo tú mismo\n",
        "\n",
        "Descubre el tamaño, la dimensión y la forma del array dado **b**\n"
      ],
      "metadata": {
        "id": "VlgQn2ZngZhi"
      }
    },
    {
      "cell_type": "code",
      "source": [
        "b = np.array([10, 20, 30, 40, 50, 60, 70])\n",
        "b.size\n",
        "b.ndim\n",
        "b.shape\n",
        "# Escriba aquí su solución"
      ],
      "metadata": {
        "id": "geMCOY0ZgZhi",
        "colab": {
          "base_uri": "https://localhost:8080/"
        },
        "outputId": "f21a3c80-3feb-4ab4-f729-056c776e537e"
      },
      "execution_count": null,
      "outputs": [
        {
          "output_type": "execute_result",
          "data": {
            "text/plain": [
              "(7,)"
            ]
          },
          "metadata": {},
          "execution_count": 47
        }
      ]
    },
    {
      "cell_type": "markdown",
      "source": [
        "### Funciones Estadísticas de Numpy\n"
      ],
      "metadata": {
        "id": "Zz4x_rD9gZhj"
      }
    },
    {
      "cell_type": "code",
      "source": [
        "# Creamos un array numpy\n",
        "\n",
        "a = np.array([1, -1, 1, -1])"
      ],
      "metadata": {
        "id": "Lsm8_O2ZgZhj"
      },
      "execution_count": null,
      "outputs": []
    },
    {
      "cell_type": "code",
      "source": [
        "# Obtenemos la media del array numpy\n",
        "\n",
        "mean = a.mean()\n",
        "mean"
      ],
      "metadata": {
        "id": "NOdpzmpMgZhj",
        "colab": {
          "base_uri": "https://localhost:8080/"
        },
        "outputId": "fc64df2e-b0b6-46af-b5a9-bdba5dc0997b"
      },
      "execution_count": null,
      "outputs": [
        {
          "output_type": "execute_result",
          "data": {
            "text/plain": [
              "0.0"
            ]
          },
          "metadata": {},
          "execution_count": 49
        }
      ]
    },
    {
      "cell_type": "code",
      "source": [
        "# Obtenemos la desviación estándar del array numpy\n",
        "\n",
        "standard_deviation=a.std()\n",
        "standard_deviation"
      ],
      "metadata": {
        "id": "3Rjw66bVgZhj",
        "colab": {
          "base_uri": "https://localhost:8080/"
        },
        "outputId": "2a1682af-d95f-43a8-f24b-73caa66a83f2"
      },
      "execution_count": null,
      "outputs": [
        {
          "output_type": "execute_result",
          "data": {
            "text/plain": [
              "1.0"
            ]
          },
          "metadata": {},
          "execution_count": 50
        }
      ]
    },
    {
      "cell_type": "code",
      "source": [
        "# Creamos un array numpy\n",
        "\n",
        "b = np.array([-1, 2, 3, 4, 5])\n",
        "b"
      ],
      "metadata": {
        "id": "ZfOkdT74gZhj",
        "colab": {
          "base_uri": "https://localhost:8080/"
        },
        "outputId": "ab8ddbb2-b258-498c-db6d-5e04dc8d1a82"
      },
      "execution_count": null,
      "outputs": [
        {
          "output_type": "execute_result",
          "data": {
            "text/plain": [
              "array([-1,  2,  3,  4,  5])"
            ]
          },
          "metadata": {},
          "execution_count": 51
        }
      ]
    },
    {
      "cell_type": "code",
      "source": [
        "# Obtenemos el valor más grande en el array numpy\n",
        "\n",
        "max_b = b.max()\n",
        "max_b"
      ],
      "metadata": {
        "id": "4gM6JGW1gZhk",
        "colab": {
          "base_uri": "https://localhost:8080/"
        },
        "outputId": "4ddad0c4-916c-407a-b739-777506ec6789"
      },
      "execution_count": null,
      "outputs": [
        {
          "output_type": "execute_result",
          "data": {
            "text/plain": [
              "5"
            ]
          },
          "metadata": {},
          "execution_count": 52
        }
      ]
    },
    {
      "cell_type": "code",
      "source": [
        "# Obtenemos el valor más pequeño en el array numpy\n",
        "\n",
        "min_b = b.min()\n",
        "min_b"
      ],
      "metadata": {
        "id": "W4s9KEk1gZhk",
        "colab": {
          "base_uri": "https://localhost:8080/"
        },
        "outputId": "42f2a04b-82ba-4fbb-8029-4beadc311e5e"
      },
      "execution_count": null,
      "outputs": [
        {
          "output_type": "execute_result",
          "data": {
            "text/plain": [
              "-1"
            ]
          },
          "metadata": {},
          "execution_count": 53
        }
      ]
    },
    {
      "cell_type": "markdown",
      "source": [
        "### Inténtalo tú mismo\n",
        "\n",
        "Descubre la suma del valor máximo y mínimo en el array numpy dado.\n"
      ],
      "metadata": {
        "id": "6baE8pJegZhk"
      }
    },
    {
      "cell_type": "markdown",
      "source": [
        "<hr>\n"
      ],
      "metadata": {
        "id": "gedEiXJAgZhk"
      }
    },
    {
      "cell_type": "code",
      "source": [
        "c = np.array([-10, 201, 43, 94, 502])\n",
        "max_c=c.max()\n",
        "min_c=c.min()\n",
        "suma=max_c+min_c\n",
        "\n",
        "# Escriba aquí su solución\n",
        "print(suma)"
      ],
      "metadata": {
        "id": "wHNQhuaagZhk",
        "colab": {
          "base_uri": "https://localhost:8080/"
        },
        "outputId": "97fe478b-3a74-4b44-bd2c-2803b803745c"
      },
      "execution_count": null,
      "outputs": [
        {
          "output_type": "stream",
          "name": "stdout",
          "text": [
            "492\n"
          ]
        }
      ]
    },
    {
      "cell_type": "markdown",
      "source": [
        "<h2 id=\"op\">Operaciones con Array Numpy</h2>\n",
        "\n",
        "Podríamos usar operadores aritméticos directamente entre arrays NumPy\n"
      ],
      "metadata": {
        "id": "8wNGAG-TgZhl"
      }
    },
    {
      "cell_type": "markdown",
      "source": [
        "<h3 id=\"add\">Suma de Arrays</h3>\n"
      ],
      "metadata": {
        "id": "q4kQoEG_gZhl"
      }
    },
    {
      "cell_type": "markdown",
      "source": [
        "Observamos el array numpy <code>u</code>:\n"
      ],
      "metadata": {
        "id": "l6h3HjXwgZhl"
      }
    },
    {
      "cell_type": "code",
      "source": [
        "u = np.array([1, 0])\n",
        "u"
      ],
      "metadata": {
        "id": "YleT4M-XgZhl",
        "colab": {
          "base_uri": "https://localhost:8080/"
        },
        "outputId": "19067435-41b2-40a0-b544-4105467f8fc8"
      },
      "execution_count": null,
      "outputs": [
        {
          "output_type": "execute_result",
          "data": {
            "text/plain": [
              "array([1, 0])"
            ]
          },
          "metadata": {},
          "execution_count": 57
        }
      ]
    },
    {
      "cell_type": "markdown",
      "source": [
        "Observamos el array numpy <code>v</code>:\n"
      ],
      "metadata": {
        "id": "agKUOWMugZhl"
      }
    },
    {
      "cell_type": "code",
      "source": [
        "v = np.array([0, 1])\n",
        "v"
      ],
      "metadata": {
        "id": "PDbax1pMgZhm",
        "colab": {
          "base_uri": "https://localhost:8080/"
        },
        "outputId": "4c11068b-d194-49dd-a5f5-54e921f61bb0"
      },
      "execution_count": null,
      "outputs": [
        {
          "output_type": "execute_result",
          "data": {
            "text/plain": [
              "array([0, 1])"
            ]
          },
          "metadata": {},
          "execution_count": 58
        }
      ]
    },
    {
      "cell_type": "markdown",
      "source": [
        "Podemos sumar los dos arrays y asignarlas a z:\n"
      ],
      "metadata": {
        "id": "-v5xwjuHgZhm"
      }
    },
    {
      "cell_type": "code",
      "source": [
        "# Suma de Arrays Numpy\n",
        "\n",
        "z = np.add(u, v)\n",
        "z"
      ],
      "metadata": {
        "id": "MDJ7dseUgZhm",
        "colab": {
          "base_uri": "https://localhost:8080/"
        },
        "outputId": "b74d8894-13b0-4c72-895c-87daed915c01"
      },
      "execution_count": null,
      "outputs": [
        {
          "output_type": "execute_result",
          "data": {
            "text/plain": [
              "array([1, 1])"
            ]
          },
          "metadata": {},
          "execution_count": 59
        }
      ]
    },
    {
      "cell_type": "markdown",
      "source": [
        "La operación es equivalente a la suma de vectores:\n"
      ],
      "metadata": {
        "id": "b0ItYGLzgZhm"
      }
    },
    {
      "cell_type": "code",
      "source": [
        "# Trazando Funciones\n",
        "\n",
        "\n",
        "import time \n",
        "import sys\n",
        "import numpy as np \n",
        "\n",
        "import matplotlib.pyplot as plt\n",
        "%matplotlib inline  \n",
        "\n",
        "def Plotvec1(u, z, v):\n",
        "    \n",
        "    ax = plt.axes() # generamos los ejes de la ventana completa\n",
        "    ax.arrow(0, 0, *u, head_width=0.05, color='r', head_length=0.1)# Añadimos una flecha a los ejes U con un ancho de punta de flecha de 0,05, color rojo y una longitud de punta de flecha de 0,1\n",
        "    plt.text(*(u + 0.1), 'u')#Añadimos el texto u a los Ejes\n",
        "    \n",
        "    ax.arrow(0, 0, *v, head_width=0.05, color='b', head_length=0.1)# Añadimos una flecha a los ejes V con un ancho de punta de flecha de 0,05, color azul y una longitud de punta de flecha de 0,1\n",
        "    plt.text(*(v + 0.1), 'v')#Añadimos el texto v a los Ejes\n",
        "    \n",
        "    ax.arrow(0, 0, *z, head_width=0.05, head_length=0.1)# Añadimos una flecha a los ejes Z con un ancho de punta de flecha de 0,05 y una longitud de punta de flecha de 0,1\n",
        "    plt.text(*(z + 0.1), 'z')#Añadimos el texto z a los Ejes\n",
        "    plt.ylim(-2, 2)#Establecemos el ylim en bottom(-2), top(2)\n",
        "    plt.xlim(-2, 2)#Establecemos el xlim en left(-2), right(2)\n",
        "\n",
        "  \n"
      ],
      "metadata": {
        "id": "tXx37geagZhm"
      },
      "execution_count": null,
      "outputs": []
    },
    {
      "cell_type": "code",
      "source": [
        "# Trazamos arrays numpy\n",
        "\n",
        "Plotvec1(u, z, v)"
      ],
      "metadata": {
        "id": "mkYqeXpXgZhn",
        "colab": {
          "base_uri": "https://localhost:8080/",
          "height": 435
        },
        "outputId": "eec96d7e-c835-4ae5-b847-c33b253b615e"
      },
      "execution_count": null,
      "outputs": [
        {
          "output_type": "display_data",
          "data": {
            "text/plain": [
              "<Figure size 640x480 with 1 Axes>"
            ],
            "image/png": "[encoded data removed]"
          },
          "metadata": {}
        }
      ]
    },
    {
      "cell_type": "markdown",
      "source": [
        "### Inténtalo tú mismo\n",
        "\n",
        "Realiza la suma de los array numpy dados arr1 y arr2:\n"
      ],
      "metadata": {
        "id": "khZIizD1gZhn"
      }
    },
    {
      "cell_type": "code",
      "source": [
        "arr1 = np.array([10, 11, 12, 13, 14, 15])\n",
        "arr2 = np.array([20, 21, 22, 23, 24, 25])\n",
        "\n",
        "# Escriba aquí su solución\n",
        "sum_arr = np.add(arr1, arr2)\n",
        "sum_arr"
      ],
      "metadata": {
        "id": "JF9FmJ2CgZhn",
        "colab": {
          "base_uri": "https://localhost:8080/"
        },
        "outputId": "e7a3b811-24d1-42d4-8e55-85d73f7f91a9"
      },
      "execution_count": null,
      "outputs": [
        {
          "output_type": "execute_result",
          "data": {
            "text/plain": [
              "array([30, 32, 34, 36, 38, 40])"
            ]
          },
          "metadata": {},
          "execution_count": 62
        }
      ]
    },
    {
      "cell_type": "markdown",
      "source": [
        "### Resta de Arrays\n"
      ],
      "metadata": {
        "id": "9k1RKfeAgZho"
      }
    },
    {
      "cell_type": "markdown",
      "source": [
        "Observamos el array numpy a:\n"
      ],
      "metadata": {
        "id": "wsGYKjgegZhp"
      }
    },
    {
      "cell_type": "code",
      "source": [
        "a = np.array([10, 20, 30])\n",
        "a"
      ],
      "metadata": {
        "id": "BRQ3Nle6gZhq",
        "colab": {
          "base_uri": "https://localhost:8080/"
        },
        "outputId": "09388cd5-6c93-41bf-970b-f6507bac90d2"
      },
      "execution_count": null,
      "outputs": [
        {
          "output_type": "execute_result",
          "data": {
            "text/plain": [
              "array([10, 20, 30])"
            ]
          },
          "metadata": {},
          "execution_count": 63
        }
      ]
    },
    {
      "cell_type": "markdown",
      "source": [
        "Observamos el array numpy b:\n"
      ],
      "metadata": {
        "id": "MD5MGsTXgZhq"
      }
    },
    {
      "cell_type": "code",
      "source": [
        "b = np.array([5, 10, 15])\n",
        "b"
      ],
      "metadata": {
        "id": "tZwN-UjPgZhq",
        "colab": {
          "base_uri": "https://localhost:8080/"
        },
        "outputId": "49a207af-cf31-4cb4-a722-5c3a6c2f4de1"
      },
      "execution_count": null,
      "outputs": [
        {
          "output_type": "execute_result",
          "data": {
            "text/plain": [
              "array([ 5, 10, 15])"
            ]
          },
          "metadata": {},
          "execution_count": 64
        }
      ]
    },
    {
      "cell_type": "markdown",
      "source": [
        "Podemos restar los dos arrays y asignarlos a c:\n"
      ],
      "metadata": {
        "id": "TlsRg_E3gZhq"
      }
    },
    {
      "cell_type": "code",
      "source": [
        "c = np.subtract(a, b)\n",
        "\n",
        "print(c)"
      ],
      "metadata": {
        "id": "hOUSuBangZhq",
        "colab": {
          "base_uri": "https://localhost:8080/"
        },
        "outputId": "4735a002-09aa-467e-cd1d-1d5503b6190e"
      },
      "execution_count": null,
      "outputs": [
        {
          "output_type": "stream",
          "name": "stdout",
          "text": [
            "[ 5 10 15]\n"
          ]
        }
      ]
    },
    {
      "cell_type": "markdown",
      "source": [
        "### Inténtalo tú mismo\n",
        "\n",
        "Realiza la resta de los array numpy dados arr1 y arr2:\n"
      ],
      "metadata": {
        "id": "UE_8S1tsgZhq"
      }
    },
    {
      "cell_type": "code",
      "source": [],
      "metadata": {
        "id": "PZ09ByydTZBn"
      },
      "execution_count": null,
      "outputs": []
    },
    {
      "cell_type": "code",
      "source": [
        "arr1 = np.array([10, 20, 30, 40, 50, 60])\n",
        "arr2 = np.array([20, 21, 22, 23, 24, 25])\n",
        "\n",
        "# Escriba aquí su solución\n",
        "resta_arr=np.subtract(arr1, arr2)\n",
        "resta_arr"
      ],
      "metadata": {
        "id": "k6fKz9xSgZhr",
        "colab": {
          "base_uri": "https://localhost:8080/"
        },
        "outputId": "8b132ef0-4817-456c-8468-854417a51799"
      },
      "execution_count": null,
      "outputs": [
        {
          "output_type": "execute_result",
          "data": {
            "text/plain": [
              "array([-10,  -1,   8,  17,  26,  35])"
            ]
          },
          "metadata": {},
          "execution_count": 66
        }
      ]
    },
    {
      "cell_type": "markdown",
      "source": [
        "<h3 id=\"multi\">Multiplicación de Arrays</h3>\n"
      ],
      "metadata": {
        "id": "p_34FywagZhr"
      }
    },
    {
      "cell_type": "markdown",
      "source": [
        "Observamos el array numpy vectorial <code>y</code>:\n"
      ],
      "metadata": {
        "id": "NgiEn61EgZhr"
      }
    },
    {
      "cell_type": "code",
      "source": [
        "# Creamos un array numpy\n",
        "\n",
        "x = np.array([1, 2])\n",
        "x"
      ],
      "metadata": {
        "id": "kHWL98V-gZhr",
        "colab": {
          "base_uri": "https://localhost:8080/"
        },
        "outputId": "dd983c41-e58d-4b4e-8216-7d3987a8b477"
      },
      "execution_count": null,
      "outputs": [
        {
          "output_type": "execute_result",
          "data": {
            "text/plain": [
              "array([1, 2])"
            ]
          },
          "metadata": {},
          "execution_count": 67
        }
      ]
    },
    {
      "cell_type": "code",
      "source": [
        "# Creamos un array numpy\n",
        "\n",
        "y = np.array([2, 1])\n",
        "y"
      ],
      "metadata": {
        "id": "SnHFA63bgZhr",
        "colab": {
          "base_uri": "https://localhost:8080/"
        },
        "outputId": "3298ff82-b2de-4ea1-e156-d36682bf4a00"
      },
      "execution_count": null,
      "outputs": [
        {
          "output_type": "execute_result",
          "data": {
            "text/plain": [
              "array([2, 1])"
            ]
          },
          "metadata": {},
          "execution_count": 68
        }
      ]
    },
    {
      "cell_type": "markdown",
      "source": [
        "Podemos multiplicar cada elemento de la matriz por 2:\n"
      ],
      "metadata": {
        "id": "7yhtMqpmgZhs"
      }
    },
    {
      "cell_type": "code",
      "source": [
        "# Multiplicación de Arrays Numpy\n",
        "\n",
        "z = np.multiply(x, y)\n",
        "z"
      ],
      "metadata": {
        "id": "RGyAO53IgZhs",
        "colab": {
          "base_uri": "https://localhost:8080/"
        },
        "outputId": "76d93414-6b7b-49df-fedb-af32c57d290b"
      },
      "execution_count": null,
      "outputs": [
        {
          "output_type": "execute_result",
          "data": {
            "text/plain": [
              "array([2, 2])"
            ]
          },
          "metadata": {},
          "execution_count": 69
        }
      ]
    },
    {
      "cell_type": "markdown",
      "source": [
        "Esto es equivalente a multiplicar un vector por un scalar:\n"
      ],
      "metadata": {
        "id": "Fz9eg1FHgZhs"
      }
    },
    {
      "cell_type": "markdown",
      "source": [
        "### Inténtalo tú mismo\n",
        "\n",
        "Realiza la multiplicación de los arrays numpy dados arr1 y arr2:\n"
      ],
      "metadata": {
        "id": "_4PME-tGgZhs"
      }
    },
    {
      "cell_type": "code",
      "source": [
        "arr1 = np.array([10, 20, 30, 40, 50, 60])\n",
        "arr2 = np.array([2, 1, 2, 3, 4, 5])\n",
        "\n",
        "# Escriba aquí su solución\n",
        "multi_arr=np.multiply(arr1, arr2)\n",
        "multi_arr"
      ],
      "metadata": {
        "id": "ChqNnbKzgZhs",
        "colab": {
          "base_uri": "https://localhost:8080/"
        },
        "outputId": "30dd2592-16da-4abb-96fb-f0192e1ca0ec"
      },
      "execution_count": null,
      "outputs": [
        {
          "output_type": "execute_result",
          "data": {
            "text/plain": [
              "array([ 20,  20,  60, 120, 200, 300])"
            ]
          },
          "metadata": {},
          "execution_count": 70
        }
      ]
    },
    {
      "cell_type": "markdown",
      "source": [
        "### División de Arrays\n"
      ],
      "metadata": {
        "id": "bYl1PqpbgZht"
      }
    },
    {
      "cell_type": "markdown",
      "source": [
        "Observamos el array numpy vectorial a:\n"
      ],
      "metadata": {
        "id": "opnuIwY5gZht"
      }
    },
    {
      "cell_type": "code",
      "source": [
        "a = np.array([10, 20, 30])\n",
        "a"
      ],
      "metadata": {
        "id": "hlmGNSsLgZht",
        "colab": {
          "base_uri": "https://localhost:8080/"
        },
        "outputId": "db9d85d3-1d92-4a17-88c6-4748cf680b2e"
      },
      "execution_count": null,
      "outputs": [
        {
          "output_type": "execute_result",
          "data": {
            "text/plain": [
              "array([10, 20, 30])"
            ]
          },
          "metadata": {},
          "execution_count": 71
        }
      ]
    },
    {
      "cell_type": "markdown",
      "source": [
        "Observamos el array numpy vectorial b:\n"
      ],
      "metadata": {
        "id": "zDT_qII7gZht"
      }
    },
    {
      "cell_type": "code",
      "source": [
        "b = np.array([2, 10, 5])\n",
        "b"
      ],
      "metadata": {
        "id": "M3x1x5YTgZht",
        "colab": {
          "base_uri": "https://localhost:8080/"
        },
        "outputId": "c286f575-ed60-4ed1-a9ae-abc86846e64d"
      },
      "execution_count": null,
      "outputs": [
        {
          "output_type": "execute_result",
          "data": {
            "text/plain": [
              "array([ 2, 10,  5])"
            ]
          },
          "metadata": {},
          "execution_count": 72
        }
      ]
    },
    {
      "cell_type": "markdown",
      "source": [
        "Podemos dividir los dos arrays y asignarlos a c:\n"
      ],
      "metadata": {
        "id": "VGanfA7tgZhu"
      }
    },
    {
      "cell_type": "code",
      "source": [
        "c = np.divide(a, b)\n",
        "c"
      ],
      "metadata": {
        "id": "5D543FHxgZhu",
        "colab": {
          "base_uri": "https://localhost:8080/"
        },
        "outputId": "f474149a-df73-4ae5-c4e2-75b0ec31b3a9"
      },
      "execution_count": null,
      "outputs": [
        {
          "output_type": "execute_result",
          "data": {
            "text/plain": [
              "array([5., 2., 6.])"
            ]
          },
          "metadata": {},
          "execution_count": 73
        }
      ]
    },
    {
      "cell_type": "markdown",
      "source": [
        "### Inténtalo tú mismo\n",
        "\n",
        "Realiza la división de los arrays numpy dados arr1 y arr2:\n"
      ],
      "metadata": {
        "id": "79foH2hcgZhu"
      }
    },
    {
      "cell_type": "code",
      "source": [
        "arr1 = np.array([10, 20, 30, 40, 50, 60])\n",
        "arr2 = np.array([3, 5, 10, 8, 2, 33])\n",
        "\n",
        "# Escriba aquí su solución\n",
        "div_arr=np.divide(arr1, arr2)\n",
        "div_arr"
      ],
      "metadata": {
        "id": "7T9LcDGFgZhu",
        "colab": {
          "base_uri": "https://localhost:8080/"
        },
        "outputId": "d18bbb3c-327b-4bec-e1cf-dd6479dc3b8d"
      },
      "execution_count": null,
      "outputs": [
        {
          "output_type": "execute_result",
          "data": {
            "text/plain": [
              "array([ 3.33333333,  4.        ,  3.        ,  5.        , 25.        ,\n",
              "        1.81818182])"
            ]
          },
          "metadata": {},
          "execution_count": 74
        }
      ]
    },
    {
      "cell_type": "markdown",
      "source": [
        "<h3 id=\"dot\">Producto Escalar</h3>\n"
      ],
      "metadata": {
        "id": "FacPh3iYgZhv"
      }
    },
    {
      "cell_type": "markdown",
      "source": [
        "El producto escalar de los dos array numpy <code>u</code> y <code>v</code> viene dado por:\n"
      ],
      "metadata": {
        "id": "F5eCyTLKgZhv"
      }
    },
    {
      "cell_type": "code",
      "source": [
        "X = np.array([1, 2])\n",
        "Y = np.array([3, 2])"
      ],
      "metadata": {
        "id": "5aMAGQCjgZhv"
      },
      "execution_count": null,
      "outputs": []
    },
    {
      "cell_type": "code",
      "source": [
        "# Calculamos el producto escalar\n",
        "\n",
        "np.dot(X, Y)"
      ],
      "metadata": {
        "id": "n2qOFGvfgZhv",
        "colab": {
          "base_uri": "https://localhost:8080/"
        },
        "outputId": "66ea2d4e-96f1-4c74-a5b8-d0b7ab93d4ed"
      },
      "execution_count": null,
      "outputs": [
        {
          "output_type": "execute_result",
          "data": {
            "text/plain": [
              "7"
            ]
          },
          "metadata": {},
          "execution_count": 76
        }
      ]
    },
    {
      "cell_type": "code",
      "source": [
        "#Elementos de X\n",
        "print(X[0])\n",
        "print(X[1])"
      ],
      "metadata": {
        "id": "rBaugzCfgZhv",
        "colab": {
          "base_uri": "https://localhost:8080/"
        },
        "outputId": "b6d53f4b-16e1-41ef-c003-a65e5f42c074"
      },
      "execution_count": null,
      "outputs": [
        {
          "output_type": "stream",
          "name": "stdout",
          "text": [
            "1\n",
            "2\n"
          ]
        }
      ]
    },
    {
      "cell_type": "code",
      "source": [
        "#Elementos de Y\n",
        "print(Y[0])\n",
        "print(Y[1])"
      ],
      "metadata": {
        "id": "9DunLhOBgZhv",
        "colab": {
          "base_uri": "https://localhost:8080/"
        },
        "outputId": "f780005f-64c7-4095-e30b-ae19c811273b"
      },
      "execution_count": null,
      "outputs": [
        {
          "output_type": "stream",
          "name": "stdout",
          "text": [
            "3\n",
            "2\n"
          ]
        }
      ]
    },
    {
      "cell_type": "markdown",
      "source": [
        "Estamos realizando el producto escalar que se muestra a continuación\n"
      ],
      "metadata": {
        "id": "uCXW5E4ngZhv"
      }
    },
    {
      "cell_type": "markdown",
      "source": [
        "<img src =\"https://cf-courses-data.s3.us.cloud-object-storage.appdomain.cloud/IBMDeveloperSkillsNetwork-PY0101EN-SkillsNetwork/labs/Module%205/images/dot1.png\"/>\n"
      ],
      "metadata": {
        "id": "dK37q9FWgZhw"
      }
    },
    {
      "cell_type": "markdown",
      "source": [
        "### Inténtalo tú mismo\n",
        "\n",
        "Realiza el producto escalar de los array numpy dados ar1 y ar2:\n"
      ],
      "metadata": {
        "id": "zMazZ_6hgZhw"
      }
    },
    {
      "cell_type": "code",
      "source": [
        "arr1 = np.array([3, 5])\n",
        "arr2 = np.array([2, 4])\n",
        "\n",
        "# Escriba aquí su solución\n",
        "prod_esc=np.dot(arr1, arr2)\n",
        "prod_esc"
      ],
      "metadata": {
        "id": "c9fcQFaLgZhw",
        "colab": {
          "base_uri": "https://localhost:8080/"
        },
        "outputId": "f304b1f3-46ed-4a1f-e3d6-a7d65e5760c8"
      },
      "execution_count": null,
      "outputs": [
        {
          "output_type": "execute_result",
          "data": {
            "text/plain": [
              "26"
            ]
          },
          "metadata": {},
          "execution_count": 81
        }
      ]
    },
    {
      "cell_type": "markdown",
      "source": [
        "<h3 id=\"cons\">Añadir una Constante a un Array Numpy</h3>\n"
      ],
      "metadata": {
        "id": "1t5gzCwEgZhw"
      }
    },
    {
      "cell_type": "markdown",
      "source": [
        "Observamos el siguiente array:\n"
      ],
      "metadata": {
        "id": "QUVvkV_igZhw"
      }
    },
    {
      "cell_type": "code",
      "source": [
        "# Creamos una constante en un array numpy\n",
        "\n",
        "u = np.array([1, 2, 3, -1]) \n",
        "u"
      ],
      "metadata": {
        "id": "JqIdGisQgZhw",
        "colab": {
          "base_uri": "https://localhost:8080/"
        },
        "outputId": "8d88ebf4-5990-4c68-f72e-72f4dc908c53"
      },
      "execution_count": null,
      "outputs": [
        {
          "output_type": "execute_result",
          "data": {
            "text/plain": [
              "array([ 1,  2,  3, -1])"
            ]
          },
          "metadata": {},
          "execution_count": 82
        }
      ]
    },
    {
      "cell_type": "markdown",
      "source": [
        "Añadimos la constante 1 a cada elemento del array:\n"
      ],
      "metadata": {
        "id": "YWijFoZCgZhx"
      }
    },
    {
      "cell_type": "code",
      "source": [
        "# Añadimos la constante al array\n",
        "\n",
        "u + 1"
      ],
      "metadata": {
        "id": "62LiQbU2gZhx",
        "colab": {
          "base_uri": "https://localhost:8080/"
        },
        "outputId": "013b6f44-9772-4a22-962d-2910b226f012"
      },
      "execution_count": null,
      "outputs": [
        {
          "output_type": "execute_result",
          "data": {
            "text/plain": [
              "array([2, 3, 4, 0])"
            ]
          },
          "metadata": {},
          "execution_count": 83
        }
      ]
    },
    {
      "cell_type": "markdown",
      "source": [
        "El proceso está resumnido en la siguiente animación:\n"
      ],
      "metadata": {
        "id": "i6yfUn61gZhx"
      }
    },
    {
      "cell_type": "markdown",
      "source": [
        "<img src=\"https://cf-courses-data.s3.us.cloud-object-storage.appdomain.cloud/IBMDeveloperSkillsNetwork-PY0101EN-SkillsNetwork/labs/Module%205/images/NumOneAdd.gif\" width=\"500\" />\n"
      ],
      "metadata": {
        "id": "S4ib8_I1gZhx"
      }
    },
    {
      "cell_type": "markdown",
      "source": [
        "### Inténtalo tú mismo\n",
        "\n",
        "Añade la Constante 5 al array numpy dado ar:\n"
      ],
      "metadata": {
        "id": "f38YqrfVgZhx"
      }
    },
    {
      "cell_type": "code",
      "source": [
        "arr = np.array([1, 2, 3, -1]) \n",
        "arr+5\n",
        "# Escriba aquí su solución\n"
      ],
      "metadata": {
        "id": "ZWBswRTsgZhx",
        "colab": {
          "base_uri": "https://localhost:8080/"
        },
        "outputId": "6d922589-d9db-4036-db29-2eeeb0c5523b"
      },
      "execution_count": null,
      "outputs": [
        {
          "output_type": "execute_result",
          "data": {
            "text/plain": [
              "array([6, 7, 8, 4])"
            ]
          },
          "metadata": {},
          "execution_count": 84
        }
      ]
    },
    {
      "cell_type": "markdown",
      "source": [
        "<hr>\n"
      ],
      "metadata": {
        "id": "Kd3IpGcSgZhy"
      }
    },
    {
      "cell_type": "markdown",
      "source": [
        "<h2 id=\"math\">Funciones Matemáticas</h2>\n"
      ],
      "metadata": {
        "id": "1luBeVFngZhy"
      }
    },
    {
      "cell_type": "markdown",
      "source": [
        "Podemos acceder al valor de <code>pi</code> en numpy de la siguiente manera:\n"
      ],
      "metadata": {
        "id": "XlA9hBzdgZhy"
      }
    },
    {
      "cell_type": "code",
      "source": [
        "# El valor de pi\n",
        "\n",
        "np.pi"
      ],
      "metadata": {
        "id": "JO2HWIMDgZhy",
        "colab": {
          "base_uri": "https://localhost:8080/"
        },
        "outputId": "c6e802dc-b6e5-4c48-cd5c-e73dd3cffb6f"
      },
      "execution_count": null,
      "outputs": [
        {
          "output_type": "execute_result",
          "data": {
            "text/plain": [
              "3.141592653589793"
            ]
          },
          "metadata": {},
          "execution_count": 85
        }
      ]
    },
    {
      "cell_type": "markdown",
      "source": [
        "Podemos crear la siguiente matriz numpy en Radianes:\n"
      ],
      "metadata": {
        "id": "f_9K3FalgZhz"
      }
    },
    {
      "cell_type": "code",
      "source": [
        "# Creamos el array numpy en radianes\n",
        "\n",
        "x = np.array([0, np.pi/2 , np.pi])"
      ],
      "metadata": {
        "id": "p2-aPxXggZhz"
      },
      "execution_count": null,
      "outputs": []
    },
    {
      "cell_type": "markdown",
      "source": [
        "Podemos aplicar la función <code>sin</code> al array <code>x</code> y asignar los valores al array <code>y</code>; esto aplica la función seno a cada elemento del array:\n"
      ],
      "metadata": {
        "id": "Ps0wy4jAgZhz"
      }
    },
    {
      "cell_type": "code",
      "source": [
        "# Calculamos el seno de cada elemento\n",
        "\n",
        "y = np.sin(x)\n",
        "y"
      ],
      "metadata": {
        "id": "oOcZW4hLgZhz",
        "colab": {
          "base_uri": "https://localhost:8080/"
        },
        "outputId": "b35e1f26-dbaa-4136-aff6-a121cba1006f"
      },
      "execution_count": null,
      "outputs": [
        {
          "output_type": "execute_result",
          "data": {
            "text/plain": [
              "array([0.0000000e+00, 1.0000000e+00, 1.2246468e-16])"
            ]
          },
          "metadata": {},
          "execution_count": 87
        }
      ]
    },
    {
      "cell_type": "markdown",
      "source": [
        "<hr>\n"
      ],
      "metadata": {
        "id": "NgGltiY4gZh0"
      }
    },
    {
      "cell_type": "markdown",
      "source": [
        "<h2 id=\"lin\">Linspace</h2>\n"
      ],
      "metadata": {
        "id": "zuJB9640gZh0"
      }
    },
    {
      "cell_type": "markdown",
      "source": [
        "Una función útil para trazar funciones matemáticas es <code>linspace</code>. Linspace devuelve números espaciados uniformemente en un intervalo específico.\n",
        "\n",
        "**numpy.linspace(start, stop, num = valor entero)**\n",
        "\n",
        "start  :  principio del rango del intervalo\n",
        "\n",
        "stop   :  final del rango del intervalo\n",
        "\n",
        "num    :  Número de muestras a generar.\n"
      ],
      "metadata": {
        "id": "SMm6AK4WgZh0"
      }
    },
    {
      "cell_type": "code",
      "source": [
        "# Construimos un array numpy de [-2, 2] y 5 elementos\n",
        "\n",
        "np.linspace(-2, 2, num=5)"
      ],
      "metadata": {
        "id": "PqnTUvfSgZh0",
        "colab": {
          "base_uri": "https://localhost:8080/"
        },
        "outputId": "28832637-db19-4bf0-d5dc-5e380b123c19"
      },
      "execution_count": null,
      "outputs": [
        {
          "output_type": "execute_result",
          "data": {
            "text/plain": [
              "array([-2., -1.,  0.,  1.,  2.])"
            ]
          },
          "metadata": {},
          "execution_count": 88
        }
      ]
    },
    {
      "cell_type": "markdown",
      "source": [
        "Si cambiamos el parámetro <code>num</code> a 9, obtenemos 9 números espaciados uniformemente en el intervalo de -2 a 2:\n"
      ],
      "metadata": {
        "id": "mgfO7iKOgZh0"
      }
    },
    {
      "cell_type": "code",
      "source": [
        "# Construimos un array numpy de [-2, 2] y 9 elementos\n",
        "\n",
        "np.linspace(-2, 2, num=9)"
      ],
      "metadata": {
        "id": "V4vrwKEmgZh0",
        "colab": {
          "base_uri": "https://localhost:8080/"
        },
        "outputId": "f3f3f592-9980-4903-d35b-9246089847ed"
      },
      "execution_count": null,
      "outputs": [
        {
          "output_type": "execute_result",
          "data": {
            "text/plain": [
              "array([-2. , -1.5, -1. , -0.5,  0. ,  0.5,  1. ,  1.5,  2. ])"
            ]
          },
          "metadata": {},
          "execution_count": 89
        }
      ]
    },
    {
      "cell_type": "markdown",
      "source": [
        "Podemos usar la función <code>linspace</code> para generar 100 muestras espaciadas uniformemente desde el intervalo 0 a 2π:\n"
      ],
      "metadata": {
        "id": "TxOCMKS7gZh1"
      }
    },
    {
      "cell_type": "code",
      "source": [
        "# Construimos un array numpy de [0, 2π] y 100 elementos\n",
        "\n",
        "x = np.linspace(0, 2*np.pi, num=100)\n",
        "x"
      ],
      "metadata": {
        "id": "3GSnFfktgZh1"
      },
      "execution_count": null,
      "outputs": []
    },
    {
      "cell_type": "markdown",
      "source": [
        "Podemos aplicar la función seno a cada elemento del array <code>x</code> y asignarla al array <code>y</code>:\n"
      ],
      "metadata": {
        "id": "MJk5MHBagZh1"
      }
    },
    {
      "cell_type": "code",
      "source": [
        "# Calculamos el seno de la lista x\n",
        "\n",
        "y = np.sin(x)"
      ],
      "metadata": {
        "id": "cfbbnntqgZh1"
      },
      "execution_count": null,
      "outputs": []
    },
    {
      "cell_type": "code",
      "source": [
        "# Trazamos el resultado\n",
        "\n",
        "plt.plot(x, y)"
      ],
      "metadata": {
        "id": "DjD_FDbFgZh1",
        "colab": {
          "base_uri": "https://localhost:8080/",
          "height": 447
        },
        "outputId": "0544668f-a34e-41f0-d522-62d8baed0f57"
      },
      "execution_count": null,
      "outputs": [
        {
          "output_type": "execute_result",
          "data": {
            "text/plain": [
              "[<matplotlib.lines.Line2D at 0x7f91703bd7e0>]"
            ]
          },
          "metadata": {},
          "execution_count": 93
        },
        {
          "output_type": "display_data",
          "data": {
            "text/plain": [
              "<Figure size 640x480 with 1 Axes>"
            ],
            "image/png": "[encoded data removed]"
          },
          "metadata": {}
        }
      ]
    },
    {
      "cell_type": "markdown",
      "source": [
        "### Inténtalo tú mismo\n",
        "\n",
        "Haz un array numpy de \\[5, 4] y 6 elementos\n"
      ],
      "metadata": {
        "id": "AY34UzFsgZh1"
      }
    },
    {
      "cell_type": "code",
      "source": [
        "# Escriba aquí su solución\n",
        "mi_array=np.linspace(5, 4, num=6)\n",
        "mi_array"
      ],
      "metadata": {
        "id": "IbWKaLE-gZh2",
        "colab": {
          "base_uri": "https://localhost:8080/"
        },
        "outputId": "1070e523-73eb-4783-f3c1-8e1e4dbb89de"
      },
      "execution_count": null,
      "outputs": [
        {
          "output_type": "execute_result",
          "data": {
            "text/plain": [
              "array([5. , 4.8, 4.6, 4.4, 4.2, 4. ])"
            ]
          },
          "metadata": {},
          "execution_count": 95
        }
      ]
    },
    {
      "cell_type": "markdown",
      "source": [
        "<hr>\n"
      ],
      "metadata": {
        "id": "TUm8-uO1gZh2"
      }
    },
    {
      "cell_type": "markdown",
      "source": [
        "### Iterando Arrays 1-D\n",
        "\n",
        "Iterar significa pasar por los elementos uno por uno.\n",
        "\n",
        "Si iteramos en un array 1-D, pasará por cada elemento uno por uno.\n"
      ],
      "metadata": {
        "id": "17EqjGLTgZh8"
      }
    },
    {
      "cell_type": "markdown",
      "source": [
        "Si ejecutamos el array numpy, obtenemos el formato de un array\n"
      ],
      "metadata": {
        "id": "URDuiLQogZh8"
      }
    },
    {
      "cell_type": "code",
      "source": [
        "arr1 = np.array([1, 2, 3])\n",
        "print(arr1)"
      ],
      "metadata": {
        "id": "EwnsTgp9gZh8",
        "colab": {
          "base_uri": "https://localhost:8080/"
        },
        "outputId": "82004d29-4979-4ca8-b952-f5db88f0c2b6"
      },
      "execution_count": null,
      "outputs": [
        {
          "output_type": "stream",
          "name": "stdout",
          "text": [
            "[1 2 3]\n"
          ]
        }
      ]
    },
    {
      "cell_type": "markdown",
      "source": [
        "Pero si queremos obtener la forma de la lista, podemos usar un bucle for:\n"
      ],
      "metadata": {
        "id": "ty2ADuiUgZh8"
      }
    },
    {
      "cell_type": "code",
      "source": [
        "for x in arr1:\n",
        "  print(x)"
      ],
      "metadata": {
        "id": "6fVH66ZfgZh9",
        "colab": {
          "base_uri": "https://localhost:8080/"
        },
        "outputId": "3e2fcbbe-3dfa-4ae9-f91a-3cd5cc8cbd4a"
      },
      "execution_count": null,
      "outputs": [
        {
          "output_type": "stream",
          "name": "stdout",
          "text": [
            "1\n",
            "2\n",
            "3\n"
          ]
        }
      ]
    },
    {
      "cell_type": "markdown",
      "source": [
        "<h2 id=\"quiz\">Cuestionario sobre Array Numpy 1D</h2>\n"
      ],
      "metadata": {
        "id": "zAdbJ8AFgZh9"
      }
    },
    {
      "cell_type": "markdown",
      "source": [
        "Implementa la siguiente resta vectorial en numpy: u-v\n"
      ],
      "metadata": {
        "id": "ftADOdt1gZh9"
      }
    },
    {
      "cell_type": "code",
      "source": [
        "# Escribe tu código debajo y presiona Shift+Enter para ejecutar\n",
        "\n",
        "u = np.array([1, 0])\n",
        "v = np.array([0, 1])\n",
        "\n",
        "resta_uv=np.subtract(u,v)\n",
        "resta_uv"
      ],
      "metadata": {
        "id": "j5cO39WegZh9",
        "colab": {
          "base_uri": "https://localhost:8080/"
        },
        "outputId": "a2a9e386-da35-41a3-cf6f-edede502815e"
      },
      "execution_count": null,
      "outputs": [
        {
          "output_type": "execute_result",
          "data": {
            "text/plain": [
              "array([ 1, -1])"
            ]
          },
          "metadata": {},
          "execution_count": 99
        }
      ]
    },
    {
      "cell_type": "markdown",
      "source": [
        "<hr>\n"
      ],
      "metadata": {
        "id": "rlYEcq1QgZh9"
      }
    },
    {
      "cell_type": "markdown",
      "source": [
        "Multiplica el array numpy z por -2:\n"
      ],
      "metadata": {
        "id": "8xUfkEZVgZh9"
      }
    },
    {
      "cell_type": "code",
      "source": [
        "# Escribe tu código debajo y presiona Shift+Enter para ejecutar\n",
        "\n",
        "z = np.array([2, 4])\n",
        "z*2"
      ],
      "metadata": {
        "id": "bRdpdoQWgZh-",
        "colab": {
          "base_uri": "https://localhost:8080/"
        },
        "outputId": "be90bb8e-dae8-4aeb-b562-0c415793fbfd"
      },
      "execution_count": null,
      "outputs": [
        {
          "output_type": "execute_result",
          "data": {
            "text/plain": [
              "array([4, 8])"
            ]
          },
          "metadata": {},
          "execution_count": 100
        }
      ]
    },
    {
      "cell_type": "markdown",
      "source": [
        "<hr>\n"
      ],
      "metadata": {
        "id": "ZWKLn6JegZh-"
      }
    },
    {
      "cell_type": "markdown",
      "source": [
        "Observa las listas <code>\\[1, 2, 3, 4, 5]</code> y <code>\\[1, 0, 1, 0, 1]</code>. Convierte ambas listas en arrays numpy y luego multiplícalas:\n"
      ],
      "metadata": {
        "id": "fNJkNAU_gZh-"
      }
    },
    {
      "cell_type": "code",
      "source": [
        "# Escribe tu código debajo y presiona Shift+Enter para ejecutar\n",
        "a=np.array([1, 2, 3, 4, 5])\n",
        "b=np.array([1, 0, 1, 0, 1])\n",
        "a*b"
      ],
      "metadata": {
        "id": "OKAKdEgZgZh-",
        "colab": {
          "base_uri": "https://localhost:8080/"
        },
        "outputId": "b9dc3c8e-2137-423a-e281-7b573dee483b"
      },
      "execution_count": null,
      "outputs": [
        {
          "output_type": "execute_result",
          "data": {
            "text/plain": [
              "array([1, 0, 3, 0, 5])"
            ]
          },
          "metadata": {},
          "execution_count": 101
        }
      ]
    },
    {
      "cell_type": "markdown",
      "source": [
        "<hr>\n"
      ],
      "metadata": {
        "id": "ZNYx-yqlgZh-"
      }
    },
    {
      "cell_type": "code",
      "source": [
        "# Importamos las librerías\n",
        "\n",
        "import time \n",
        "import sys\n",
        "import numpy as np \n",
        "\n",
        "import matplotlib.pyplot as plt\n",
        "%matplotlib inline  \n",
        "\n",
        "def Plotvec2(a,b):\n",
        "    ax = plt.axes()# generamos los ejes de la ventana completa\n",
        "    ax.arrow(0, 0, *a, head_width=0.05, color ='r', head_length=0.1)#Añadimos una flecha a los ejes a con un ancho de punta de flecha de 0,05, color rojo y una longitud de punta de flecha de 0,1\n",
        "    plt.text(*(a + 0.1), 'a')\n",
        "    ax.arrow(0, 0, *b, head_width=0.05, color ='b', head_length=0.1)#Añadimos una flecha a los ejes b con un ancho de punta de flecha de 0,05, color azul y una longitud de punta de flecha de 0,1\n",
        "    plt.text(*(b + 0.1), 'b')\n",
        "    plt.ylim(-2, 2)#Establecemos el ylim en bottom(-2), top(2)\n",
        "    plt.xlim(-2, 2)#Establecemos el xlim en left(-2), right(2)\n",
        "    \n",
        "    \n"
      ],
      "metadata": {
        "id": "OSgHXO3rgZh-"
      },
      "execution_count": null,
      "outputs": []
    },
    {
      "cell_type": "markdown",
      "source": [
        "Convierte las listas <code>\\[-1, 1]</code> y <code>\\[1, 1]</code> en los arrays numpy <code>a</code> y <code>b</code>. Luego, traza los arrays como vectores usando la función <code>Plotvec2</code> y encuentra su producto escalar:\n"
      ],
      "metadata": {
        "id": "lWpRw-NpgZh_"
      }
    },
    {
      "cell_type": "code",
      "source": [
        "# Escribe tu código debajo y presiona Shift+Enter para ejecutar\n",
        "c=np.array([-1, 1])\n",
        "d=np.array([1, 1])\n",
        "def Plotvec2(a,b):\n",
        "    ax = plt.axes()# generamos los ejes de la ventana completa\n",
        "    ax.arrow(0, 0, *a, head_width=0.05, color ='r', head_length=0.1)#Añadimos una flecha a los ejes a con un ancho de punta de flecha de 0,05, color rojo y una longitud de punta de flecha de 0,1\n",
        "    plt.text(*(a + 0.1), 'a')\n",
        "    ax.arrow(0, 0, *b, head_width=0.05, color ='b', head_length=0.1)#Añadimos una flecha a los ejes b con un ancho de punta de flecha de 0,05, color azul y una longitud de punta de flecha de 0,1\n",
        "    plt.text(*(b + 0.1), 'b')\n",
        "    plt.ylim(-2, 2)#Establecemos el ylim en bottom(-2), top(2)\n",
        "    plt.xlim(-2, 2)#Establecemos el xlim en left(-2), right(2)\n",
        "Plotvec2(c,d)\n",
        "np.dot(c, d)"
      ],
      "metadata": {
        "id": "TVNXN9lTgZh_",
        "colab": {
          "base_uri": "https://localhost:8080/",
          "height": 452
        },
        "outputId": "7d911c81-732c-4d31-f3ee-a7a393e6f9bc"
      },
      "execution_count": null,
      "outputs": [
        {
          "output_type": "execute_result",
          "data": {
            "text/plain": [
              "0"
            ]
          },
          "metadata": {},
          "execution_count": 109
        },
        {
          "output_type": "display_data",
          "data": {
            "text/plain": [
              "<Figure size 640x480 with 1 Axes>"
            ],
            "image/png": "[encoded data removed]"
          },
          "metadata": {}
        }
      ]
    },
    {
      "cell_type": "markdown",
      "source": [
        "<hr>\n"
      ],
      "metadata": {
        "id": "P2xisgfZgZh_"
      }
    },
    {
      "cell_type": "markdown",
      "source": [
        "Convierte las listas <code>\\[1, 0]</code> y <code>\\[0, 1]</code> en los arrays numpy <code>a</code> y <code>b</code>. Luego, traza los arrays como vectores usando la función <code>Plotvec2</code> y encuentra su producto escalar:\n"
      ],
      "metadata": {
        "id": "7aVl8bLzgZh_"
      }
    },
    {
      "cell_type": "code",
      "source": [
        "# Escribe tu código debajo y presiona Shift+Enter para ejecutar\n",
        "a=np.array([1, 0])\n",
        "b=np.array([0, 1])\n",
        "def Plotvec2(c,d):\n",
        "    ax = plt.axes()# generamos los ejes de la ventana completa\n",
        "    ax.arrow(0, 0, *c, head_width=0.05, color ='blue', head_length=0.1)#Añadimos una flecha a los ejes a con un ancho de punta de flecha de 0,05, color rojo y una longitud de punta de flecha de 0,1\n",
        "    plt.text(*(c + 0.1), 'c')\n",
        "    ax.arrow(0, 0, *d, head_width=0.05, color ='red', head_length=0.1)#Añadimos una flecha a los ejes b con un ancho de punta de flecha de 0,05, color azul y una longitud de punta de flecha de 0,1\n",
        "    plt.text(*(d + 0.1), 'b')\n",
        "    plt.ylim(-2, 2)#Establecemos el ylim en bottom(-2), top(2)\n",
        "    plt.xlim(-2, 2)#Establecemos el xlim en left(-2), right(2)\n",
        "Plotvec2(a,b)\n",
        "np.dot(a, b)"
      ],
      "metadata": {
        "id": "NCoAWa0BgZh_",
        "colab": {
          "base_uri": "https://localhost:8080/",
          "height": 452
        },
        "outputId": "a21bff5f-e384-45d5-f9a6-0e648bca3276"
      },
      "execution_count": null,
      "outputs": [
        {
          "output_type": "execute_result",
          "data": {
            "text/plain": [
              "0"
            ]
          },
          "metadata": {},
          "execution_count": 112
        },
        {
          "output_type": "display_data",
          "data": {
            "text/plain": [
              "<Figure size 640x480 with 1 Axes>"
            ],
            "image/png": "[encoded data removed]"
          },
          "metadata": {}
        }
      ]
    },
    {
      "cell_type": "markdown",
      "source": [
        "<hr>\n"
      ],
      "metadata": {
        "id": "_yETfPqtgZiA"
      }
    },
    {
      "cell_type": "markdown",
      "source": [
        "Convierte las listas <code>\\[1, 1]</code> y <code>\\[0, 1]</code> en los arrays numpy <code>a</code> y <code>b</code>. Luego, traza los arrays como vectores usando la función <code>Plotvec2</code> y encuentra su producto escalar:\n"
      ],
      "metadata": {
        "id": "N484BBN_gZiA"
      }
    },
    {
      "cell_type": "code",
      "source": [
        "# Escribe tu código debajo y presiona Shift+Enter para ejecutar\n"
      ],
      "metadata": {
        "id": "mz9QYS77gZiA"
      },
      "execution_count": null,
      "outputs": []
    },
    {
      "cell_type": "markdown",
      "source": [
        "<hr>\n"
      ],
      "metadata": {
        "id": "1Fz_KQ1XgZiA"
      }
    },
    {
      "cell_type": "markdown",
      "source": [
        "¿Por qué el resultado del producto escalar para <code>\\[-1, 1]</code> y <code>\\[1, 1]</code> y del producto escalar para <code>\\[1, 0]</code> y <code>\\[0, 1]</code> es cero, pero no es cero para el producto escalar de <code>\\[1, 1]</code> y <code>\\[0, 1]</code>? <p><i>Pista: Estudia las figuras correspondientes, presta atención a la dirección hacia la que apuntan las flechas.</i></p>\n"
      ],
      "metadata": {
        "id": "MSvAlYN7gZiA"
      }
    },
    {
      "cell_type": "code",
      "source": [
        "# Escribe tu código debajo y presiona Shift+Enter para ejecutar\n"
      ],
      "metadata": {
        "id": "uhpJkZBWgZiA"
      },
      "execution_count": null,
      "outputs": []
    },
    {
      "cell_type": "markdown",
      "source": [
        "Convierte las listas <code>\\[1, 2, 3]</code> y <code>\\[8, 9, 10]</code> en los arrays numpy <code>arr1</code> y <code>arr2</code>. Luego realiza las operaciones <code>Addition</code> , <code>Subtraction</code> , <code>Multiplication</code> , <code>Division</code> y <code>Dot Operation</code> en <code>arr1</code> y <code>arr2</code>.\n"
      ],
      "metadata": {
        "id": "jY4o_7VUgZiB"
      }
    },
    {
      "cell_type": "code",
      "source": [
        "# Escribe tu código debajo y presiona Shift+Enter para ejecutar\n"
      ],
      "metadata": {
        "id": "c_HGYcgJgZiB"
      },
      "execution_count": null,
      "outputs": []
    },
    {
      "cell_type": "markdown",
      "source": [
        "Convierte las listas <code>\\[1, 2, 3, 4, 5]</code> y <code>\\[6, 7, 8, 9, 10]</code> en los arrays numpy <code>arr1</code> y <code>arr2</code>. Después encuentra los números pares e impares de <code>arr1</code> y <code>arr2</code>.\n"
      ],
      "metadata": {
        "id": "XaT85FUngZiB"
      }
    },
    {
      "cell_type": "code",
      "source": [
        "# Escribe tu código debajo y presiona Shift+Enter para ejecutar\n",
        "\n"
      ],
      "metadata": {
        "id": "PPx5w6GrgZiB"
      },
      "execution_count": null,
      "outputs": []
    }
  ]
}